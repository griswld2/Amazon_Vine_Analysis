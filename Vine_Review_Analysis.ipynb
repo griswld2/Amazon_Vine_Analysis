{
 "cells": [
  {
   "cell_type": "code",
   "execution_count": 1,
   "id": "1c075d72",
   "metadata": {},
   "outputs": [
    {
     "data": {
      "text/html": [
       "<div>\n",
       "<style scoped>\n",
       "    .dataframe tbody tr th:only-of-type {\n",
       "        vertical-align: middle;\n",
       "    }\n",
       "\n",
       "    .dataframe tbody tr th {\n",
       "        vertical-align: top;\n",
       "    }\n",
       "\n",
       "    .dataframe thead th {\n",
       "        text-align: right;\n",
       "    }\n",
       "</style>\n",
       "<table border=\"1\" class=\"dataframe\">\n",
       "  <thead>\n",
       "    <tr style=\"text-align: right;\">\n",
       "      <th></th>\n",
       "      <th>review_id</th>\n",
       "      <th>star_rating</th>\n",
       "      <th>helpful_votes</th>\n",
       "      <th>total_votes</th>\n",
       "      <th>vine</th>\n",
       "      <th>verified_purchase</th>\n",
       "    </tr>\n",
       "  </thead>\n",
       "  <tbody>\n",
       "    <tr>\n",
       "      <th>0</th>\n",
       "      <td>R3I2DHQBR577SS</td>\n",
       "      <td>5.0</td>\n",
       "      <td>0.0</td>\n",
       "      <td>0.0</td>\n",
       "      <td>N</td>\n",
       "      <td>Y</td>\n",
       "    </tr>\n",
       "    <tr>\n",
       "      <th>1</th>\n",
       "      <td>R1QNE9NQFJC2Y4</td>\n",
       "      <td>5.0</td>\n",
       "      <td>0.0</td>\n",
       "      <td>0.0</td>\n",
       "      <td>N</td>\n",
       "      <td>Y</td>\n",
       "    </tr>\n",
       "    <tr>\n",
       "      <th>2</th>\n",
       "      <td>R3LIDG2Q4LJBAO</td>\n",
       "      <td>5.0</td>\n",
       "      <td>0.0</td>\n",
       "      <td>0.0</td>\n",
       "      <td>N</td>\n",
       "      <td>Y</td>\n",
       "    </tr>\n",
       "    <tr>\n",
       "      <th>3</th>\n",
       "      <td>R3KSZHPAEVPEAL</td>\n",
       "      <td>5.0</td>\n",
       "      <td>0.0</td>\n",
       "      <td>0.0</td>\n",
       "      <td>N</td>\n",
       "      <td>Y</td>\n",
       "    </tr>\n",
       "    <tr>\n",
       "      <th>4</th>\n",
       "      <td>RAI2OIG50KZ43</td>\n",
       "      <td>5.0</td>\n",
       "      <td>0.0</td>\n",
       "      <td>0.0</td>\n",
       "      <td>N</td>\n",
       "      <td>Y</td>\n",
       "    </tr>\n",
       "  </tbody>\n",
       "</table>\n",
       "</div>"
      ],
      "text/plain": [
       "        review_id  star_rating  helpful_votes  total_votes vine  \\\n",
       "0  R3I2DHQBR577SS          5.0            0.0          0.0    N   \n",
       "1  R1QNE9NQFJC2Y4          5.0            0.0          0.0    N   \n",
       "2  R3LIDG2Q4LJBAO          5.0            0.0          0.0    N   \n",
       "3  R3KSZHPAEVPEAL          5.0            0.0          0.0    N   \n",
       "4   RAI2OIG50KZ43          5.0            0.0          0.0    N   \n",
       "\n",
       "  verified_purchase  \n",
       "0                 Y  \n",
       "1                 Y  \n",
       "2                 Y  \n",
       "3                 Y  \n",
       "4                 Y  "
      ]
     },
     "execution_count": 1,
     "metadata": {},
     "output_type": "execute_result"
    }
   ],
   "source": [
    "#Import Packages\n",
    "import pandas as pd\n",
    "import numpy as np\n",
    "\n",
    "#Read in files\n",
    "file = r'C:\\Users\\mattg\\Desktop\\Columbia\\Module-16\\vine_table.csv'\n",
    "\n",
    "#Original DF\n",
    "df = pd.read_csv(file)\n",
    "df.head()"
   ]
  },
  {
   "cell_type": "code",
   "execution_count": 8,
   "id": "575c8836",
   "metadata": {},
   "outputs": [
    {
     "data": {
      "text/html": [
       "<div>\n",
       "<style scoped>\n",
       "    .dataframe tbody tr th:only-of-type {\n",
       "        vertical-align: middle;\n",
       "    }\n",
       "\n",
       "    .dataframe tbody tr th {\n",
       "        vertical-align: top;\n",
       "    }\n",
       "\n",
       "    .dataframe thead th {\n",
       "        text-align: right;\n",
       "    }\n",
       "</style>\n",
       "<table border=\"1\" class=\"dataframe\">\n",
       "  <thead>\n",
       "    <tr style=\"text-align: right;\">\n",
       "      <th></th>\n",
       "      <th>review_id</th>\n",
       "      <th>star_rating</th>\n",
       "      <th>helpful_votes</th>\n",
       "      <th>total_votes</th>\n",
       "      <th>vine</th>\n",
       "      <th>verified_purchase</th>\n",
       "      <th>helpfulness</th>\n",
       "    </tr>\n",
       "  </thead>\n",
       "  <tbody>\n",
       "    <tr>\n",
       "      <th>31</th>\n",
       "      <td>R2QRUE9REK8OUC</td>\n",
       "      <td>5.0</td>\n",
       "      <td>18.0</td>\n",
       "      <td>23.0</td>\n",
       "      <td>N</td>\n",
       "      <td>Y</td>\n",
       "      <td>0.782609</td>\n",
       "    </tr>\n",
       "    <tr>\n",
       "      <th>102</th>\n",
       "      <td>R2POXRW6PXHXZG</td>\n",
       "      <td>5.0</td>\n",
       "      <td>25.0</td>\n",
       "      <td>30.0</td>\n",
       "      <td>N</td>\n",
       "      <td>Y</td>\n",
       "      <td>0.833333</td>\n",
       "    </tr>\n",
       "    <tr>\n",
       "      <th>337</th>\n",
       "      <td>R29Q748WSHZ3SN</td>\n",
       "      <td>5.0</td>\n",
       "      <td>23.0</td>\n",
       "      <td>24.0</td>\n",
       "      <td>N</td>\n",
       "      <td>Y</td>\n",
       "      <td>0.958333</td>\n",
       "    </tr>\n",
       "    <tr>\n",
       "      <th>357</th>\n",
       "      <td>R46UL5G5HEPRZ</td>\n",
       "      <td>5.0</td>\n",
       "      <td>18.0</td>\n",
       "      <td>20.0</td>\n",
       "      <td>N</td>\n",
       "      <td>N</td>\n",
       "      <td>0.900000</td>\n",
       "    </tr>\n",
       "    <tr>\n",
       "      <th>386</th>\n",
       "      <td>R2UQHSNWU6WTZX</td>\n",
       "      <td>5.0</td>\n",
       "      <td>74.0</td>\n",
       "      <td>76.0</td>\n",
       "      <td>N</td>\n",
       "      <td>N</td>\n",
       "      <td>0.973684</td>\n",
       "    </tr>\n",
       "  </tbody>\n",
       "</table>\n",
       "</div>"
      ],
      "text/plain": [
       "          review_id  star_rating  helpful_votes  total_votes vine  \\\n",
       "31   R2QRUE9REK8OUC          5.0           18.0         23.0    N   \n",
       "102  R2POXRW6PXHXZG          5.0           25.0         30.0    N   \n",
       "337  R29Q748WSHZ3SN          5.0           23.0         24.0    N   \n",
       "357   R46UL5G5HEPRZ          5.0           18.0         20.0    N   \n",
       "386  R2UQHSNWU6WTZX          5.0           74.0         76.0    N   \n",
       "\n",
       "    verified_purchase  helpfulness  \n",
       "31                  Y     0.782609  \n",
       "102                 Y     0.833333  \n",
       "337                 Y     0.958333  \n",
       "357                 N     0.900000  \n",
       "386                 N     0.973684  "
      ]
     },
     "execution_count": 8,
     "metadata": {},
     "output_type": "execute_result"
    }
   ],
   "source": [
    "#Filtering for >= 20 Votes\n",
    "total_votes_filter = df['total_votes']>=20\n",
    "df = df[total_votes_filter]\n",
    "#df.head()\n",
    "\n",
    "#Helpflness Column Creator\n",
    "df['helpfulness'] = (df['helpful_votes'] / df['total_votes'])\n",
    "\n",
    "#Creates Filter for Helpfulness >= .5\n",
    "helpfulness_filter = df['helpfulness'] >= .5\n",
    "\n",
    "#Filtered DF\n",
    "filtered_df = df[helpfulness_filter]\n",
    "filtered_df.head()"
   ]
  },
  {
   "cell_type": "code",
   "execution_count": 9,
   "id": "584041ff",
   "metadata": {},
   "outputs": [
    {
     "data": {
      "text/html": [
       "<div>\n",
       "<style scoped>\n",
       "    .dataframe tbody tr th:only-of-type {\n",
       "        vertical-align: middle;\n",
       "    }\n",
       "\n",
       "    .dataframe tbody tr th {\n",
       "        vertical-align: top;\n",
       "    }\n",
       "\n",
       "    .dataframe thead th {\n",
       "        text-align: right;\n",
       "    }\n",
       "</style>\n",
       "<table border=\"1\" class=\"dataframe\">\n",
       "  <thead>\n",
       "    <tr style=\"text-align: right;\">\n",
       "      <th></th>\n",
       "      <th>review_id</th>\n",
       "      <th>star_rating</th>\n",
       "      <th>helpful_votes</th>\n",
       "      <th>total_votes</th>\n",
       "      <th>vine</th>\n",
       "      <th>verified_purchase</th>\n",
       "      <th>helpfulness</th>\n",
       "    </tr>\n",
       "  </thead>\n",
       "  <tbody>\n",
       "    <tr>\n",
       "      <th>33773</th>\n",
       "      <td>R106V6GUNWRSSS</td>\n",
       "      <td>5.0</td>\n",
       "      <td>857.0</td>\n",
       "      <td>889.0</td>\n",
       "      <td>Y</td>\n",
       "      <td>N</td>\n",
       "      <td>0.964004</td>\n",
       "    </tr>\n",
       "    <tr>\n",
       "      <th>38256</th>\n",
       "      <td>R37N8KZS48W36A</td>\n",
       "      <td>5.0</td>\n",
       "      <td>36.0</td>\n",
       "      <td>37.0</td>\n",
       "      <td>Y</td>\n",
       "      <td>N</td>\n",
       "      <td>0.972973</td>\n",
       "    </tr>\n",
       "    <tr>\n",
       "      <th>58582</th>\n",
       "      <td>R1LNEQ2MQE03PD</td>\n",
       "      <td>5.0</td>\n",
       "      <td>49.0</td>\n",
       "      <td>66.0</td>\n",
       "      <td>Y</td>\n",
       "      <td>N</td>\n",
       "      <td>0.742424</td>\n",
       "    </tr>\n",
       "    <tr>\n",
       "      <th>61695</th>\n",
       "      <td>R1ECPWPUNK36ES</td>\n",
       "      <td>5.0</td>\n",
       "      <td>29.0</td>\n",
       "      <td>31.0</td>\n",
       "      <td>Y</td>\n",
       "      <td>N</td>\n",
       "      <td>0.935484</td>\n",
       "    </tr>\n",
       "    <tr>\n",
       "      <th>95790</th>\n",
       "      <td>R16BUM7UQZLOM6</td>\n",
       "      <td>3.0</td>\n",
       "      <td>107.0</td>\n",
       "      <td>112.0</td>\n",
       "      <td>Y</td>\n",
       "      <td>N</td>\n",
       "      <td>0.955357</td>\n",
       "    </tr>\n",
       "  </tbody>\n",
       "</table>\n",
       "</div>"
      ],
      "text/plain": [
       "            review_id  star_rating  helpful_votes  total_votes vine  \\\n",
       "33773  R106V6GUNWRSSS          5.0          857.0        889.0    Y   \n",
       "38256  R37N8KZS48W36A          5.0           36.0         37.0    Y   \n",
       "58582  R1LNEQ2MQE03PD          5.0           49.0         66.0    Y   \n",
       "61695  R1ECPWPUNK36ES          5.0           29.0         31.0    Y   \n",
       "95790  R16BUM7UQZLOM6          3.0          107.0        112.0    Y   \n",
       "\n",
       "      verified_purchase  helpfulness  \n",
       "33773                 N     0.964004  \n",
       "38256                 N     0.972973  \n",
       "58582                 N     0.742424  \n",
       "61695                 N     0.935484  \n",
       "95790                 N     0.955357  "
      ]
     },
     "execution_count": 9,
     "metadata": {},
     "output_type": "execute_result"
    }
   ],
   "source": [
    "#Vine Filters\n",
    "yes_vine_filter = df['vine'] == 'Y'\n",
    "no_vine_filter = df['vine'] == 'N'\n",
    "\n",
    "#Yes Filtered Vine Data Frame\n",
    "yes_filtered_df  = df[yes_vine_filter]\n",
    "yes_filtered_df.head()"
   ]
  },
  {
   "cell_type": "code",
   "execution_count": 10,
   "id": "3338673e",
   "metadata": {},
   "outputs": [
    {
     "data": {
      "text/html": [
       "<div>\n",
       "<style scoped>\n",
       "    .dataframe tbody tr th:only-of-type {\n",
       "        vertical-align: middle;\n",
       "    }\n",
       "\n",
       "    .dataframe tbody tr th {\n",
       "        vertical-align: top;\n",
       "    }\n",
       "\n",
       "    .dataframe thead th {\n",
       "        text-align: right;\n",
       "    }\n",
       "</style>\n",
       "<table border=\"1\" class=\"dataframe\">\n",
       "  <thead>\n",
       "    <tr style=\"text-align: right;\">\n",
       "      <th></th>\n",
       "      <th>review_id</th>\n",
       "      <th>star_rating</th>\n",
       "      <th>helpful_votes</th>\n",
       "      <th>total_votes</th>\n",
       "      <th>vine</th>\n",
       "      <th>verified_purchase</th>\n",
       "      <th>helpfulness</th>\n",
       "    </tr>\n",
       "  </thead>\n",
       "  <tbody>\n",
       "    <tr>\n",
       "      <th>31</th>\n",
       "      <td>R2QRUE9REK8OUC</td>\n",
       "      <td>5.0</td>\n",
       "      <td>18.0</td>\n",
       "      <td>23.0</td>\n",
       "      <td>N</td>\n",
       "      <td>Y</td>\n",
       "      <td>0.782609</td>\n",
       "    </tr>\n",
       "    <tr>\n",
       "      <th>102</th>\n",
       "      <td>R2POXRW6PXHXZG</td>\n",
       "      <td>5.0</td>\n",
       "      <td>25.0</td>\n",
       "      <td>30.0</td>\n",
       "      <td>N</td>\n",
       "      <td>Y</td>\n",
       "      <td>0.833333</td>\n",
       "    </tr>\n",
       "    <tr>\n",
       "      <th>212</th>\n",
       "      <td>RZN43XRZ89IIJ</td>\n",
       "      <td>3.0</td>\n",
       "      <td>10.0</td>\n",
       "      <td>27.0</td>\n",
       "      <td>N</td>\n",
       "      <td>N</td>\n",
       "      <td>0.370370</td>\n",
       "    </tr>\n",
       "    <tr>\n",
       "      <th>337</th>\n",
       "      <td>R29Q748WSHZ3SN</td>\n",
       "      <td>5.0</td>\n",
       "      <td>23.0</td>\n",
       "      <td>24.0</td>\n",
       "      <td>N</td>\n",
       "      <td>Y</td>\n",
       "      <td>0.958333</td>\n",
       "    </tr>\n",
       "    <tr>\n",
       "      <th>357</th>\n",
       "      <td>R46UL5G5HEPRZ</td>\n",
       "      <td>5.0</td>\n",
       "      <td>18.0</td>\n",
       "      <td>20.0</td>\n",
       "      <td>N</td>\n",
       "      <td>N</td>\n",
       "      <td>0.900000</td>\n",
       "    </tr>\n",
       "  </tbody>\n",
       "</table>\n",
       "</div>"
      ],
      "text/plain": [
       "          review_id  star_rating  helpful_votes  total_votes vine  \\\n",
       "31   R2QRUE9REK8OUC          5.0           18.0         23.0    N   \n",
       "102  R2POXRW6PXHXZG          5.0           25.0         30.0    N   \n",
       "212   RZN43XRZ89IIJ          3.0           10.0         27.0    N   \n",
       "337  R29Q748WSHZ3SN          5.0           23.0         24.0    N   \n",
       "357   R46UL5G5HEPRZ          5.0           18.0         20.0    N   \n",
       "\n",
       "    verified_purchase  helpfulness  \n",
       "31                  Y     0.782609  \n",
       "102                 Y     0.833333  \n",
       "212                 N     0.370370  \n",
       "337                 Y     0.958333  \n",
       "357                 N     0.900000  "
      ]
     },
     "execution_count": 10,
     "metadata": {},
     "output_type": "execute_result"
    }
   ],
   "source": [
    "#No Filtered Vine Data Frame\n",
    "no_filtered_df  = df[no_vine_filter]\n",
    "no_filtered_df.head()"
   ]
  },
  {
   "cell_type": "code",
   "execution_count": 14,
   "id": "859b8e6a",
   "metadata": {},
   "outputs": [
    {
     "data": {
      "text/plain": [
       "74760"
      ]
     },
     "execution_count": 14,
     "metadata": {},
     "output_type": "execute_result"
    }
   ],
   "source": [
    "#Calculate Total Number of Reviews\n",
    "\n",
    "total_reviews = filtered_df['review_id'].count()\n",
    "total_reviews"
   ]
  },
  {
   "cell_type": "code",
   "execution_count": 15,
   "id": "d6c356e1",
   "metadata": {},
   "outputs": [
    {
     "data": {
      "text/plain": [
       "43446"
      ]
     },
     "execution_count": 15,
     "metadata": {},
     "output_type": "execute_result"
    }
   ],
   "source": [
    "five_star_review_count = (filtered_df.star_rating == 5).sum()\n",
    "five_star_review_count"
   ]
  },
  {
   "cell_type": "code",
   "execution_count": 16,
   "id": "de5d3bf8",
   "metadata": {},
   "outputs": [
    {
     "data": {
      "text/plain": [
       "0.581139646869984"
      ]
     },
     "execution_count": 16,
     "metadata": {},
     "output_type": "execute_result"
    }
   ],
   "source": [
    "percentage_of_five_star_reviews = five_star_review_count/total_reviews\n",
    "percentage_of_five_star_reviews"
   ]
  },
  {
   "cell_type": "code",
   "execution_count": 18,
   "id": "44c035e4",
   "metadata": {},
   "outputs": [
    {
     "data": {
      "text/plain": [
       "0.34802431610942247"
      ]
     },
     "execution_count": 18,
     "metadata": {},
     "output_type": "execute_result"
    }
   ],
   "source": [
    "total_paid_reviews = yes_filtered_df['review_id'].count()\n",
    "paid_five_star_review_count = (yes_filtered_df.star_rating == 5).sum()\n",
    "paid_percentage_of_five_star_reviews = paid_five_star_review_count/total_paid_reviews\n",
    "paid_percentage_of_five_star_reviews"
   ]
  },
  {
   "cell_type": "code",
   "execution_count": 19,
   "id": "3c7b5af5",
   "metadata": {},
   "outputs": [
    {
     "data": {
      "text/plain": [
       "0.5579172447148366"
      ]
     },
     "execution_count": 19,
     "metadata": {},
     "output_type": "execute_result"
    }
   ],
   "source": [
    "total_not_paid_reviews = no_filtered_df['review_id'].count()\n",
    "not_paid_five_star_review_count = (no_filtered_df.star_rating == 5).sum()\n",
    "not_paid_percentage_of_five_star_reviews = not_paid_five_star_review_count/total_not_paid_reviews\n",
    "not_paid_percentage_of_five_star_reviews"
   ]
  },
  {
   "cell_type": "code",
   "execution_count": 20,
   "id": "d1a92c64",
   "metadata": {},
   "outputs": [
    {
     "data": {
      "text/html": [
       "<div>\n",
       "<style scoped>\n",
       "    .dataframe tbody tr th:only-of-type {\n",
       "        vertical-align: middle;\n",
       "    }\n",
       "\n",
       "    .dataframe tbody tr th {\n",
       "        vertical-align: top;\n",
       "    }\n",
       "\n",
       "    .dataframe thead th {\n",
       "        text-align: right;\n",
       "    }\n",
       "</style>\n",
       "<table border=\"1\" class=\"dataframe\">\n",
       "  <thead>\n",
       "    <tr style=\"text-align: right;\">\n",
       "      <th></th>\n",
       "      <th>Total Reviews</th>\n",
       "      <th>Total 5-Star Reviews</th>\n",
       "      <th>5-Star Review %</th>\n",
       "      <th>Paid 5-Star Reviews</th>\n",
       "      <th>Unpaid 5-Star Reviews</th>\n",
       "    </tr>\n",
       "  </thead>\n",
       "  <tbody>\n",
       "    <tr>\n",
       "      <th>0</th>\n",
       "      <td>74760</td>\n",
       "      <td>43446</td>\n",
       "      <td>0.58114</td>\n",
       "      <td>0.348024</td>\n",
       "      <td>0.557917</td>\n",
       "    </tr>\n",
       "  </tbody>\n",
       "</table>\n",
       "</div>"
      ],
      "text/plain": [
       "   Total Reviews  Total 5-Star Reviews  5-Star Review %  Paid 5-Star Reviews  \\\n",
       "0          74760                 43446          0.58114             0.348024   \n",
       "\n",
       "   Unpaid 5-Star Reviews  \n",
       "0               0.557917  "
      ]
     },
     "execution_count": 20,
     "metadata": {},
     "output_type": "execute_result"
    }
   ],
   "source": [
    "summary_df = pd.DataFrame(\n",
    "          [{\"Total Reviews\" : total_reviews,\n",
    "              \"Total 5-Star Reviews\" : five_star_review_count,\n",
    "            \"5-Star Review %\" : percentage_of_five_star_reviews,\n",
    "            \"Paid 5-Star Reviews\" : paid_percentage_of_five_star_reviews,\n",
    "            \"Unpaid 5-Star Reviews\" : not_paid_percentage_of_five_star_reviews \n",
    "          }])\n",
    "summary_df"
   ]
  },
  {
   "cell_type": "code",
   "execution_count": null,
   "id": "9544f7ba",
   "metadata": {},
   "outputs": [],
   "source": []
  }
 ],
 "metadata": {
  "kernelspec": {
   "display_name": "Python 3",
   "language": "python",
   "name": "python3"
  },
  "language_info": {
   "codemirror_mode": {
    "name": "ipython",
    "version": 3
   },
   "file_extension": ".py",
   "mimetype": "text/x-python",
   "name": "python",
   "nbconvert_exporter": "python",
   "pygments_lexer": "ipython3",
   "version": "3.8.8"
  }
 },
 "nbformat": 4,
 "nbformat_minor": 5
}
